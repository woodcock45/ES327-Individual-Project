{
 "cells": [
  {
   "cell_type": "markdown",
   "metadata": {},
   "source": [
    "# Making it Stick (Squires et al, 2008) key formulas\n",
    "\n"
   ]
  },
  {
   "cell_type": "code",
   "execution_count": 53,
   "metadata": {},
   "outputs": [],
   "source": [
    "#libraries\n",
    " \n",
    "import math\n",
    "    \n"
   ]
  },
  {
   "cell_type": "markdown",
   "metadata": {},
   "source": [
    "### Variables (initial inputs from Box 1 micro scale example)"
   ]
  },
  {
   "cell_type": "code",
   "execution_count": 54,
   "metadata": {},
   "outputs": [],
   "source": [
    "## Channel\n",
    "\n",
    "Wc = 100e-6 # width of channel (m)\n",
    "H = 100e-6 # height of channel (m)\n",
    "\n",
    "## Sensor\n",
    "\n",
    "Ws = 50e-6 # width of sensor (m)\n",
    "L = 50e-6 # length of sensor (m)\n",
    "\n",
    "## Target solution\n",
    "\n",
    "d = 10 # diffusivity (u m^2/s)\n",
    "co = 10 # concentration (fM (molarity - Moles/L))\n",
    "\n",
    "## Flow\n",
    "\n",
    "q = 10 # flow rate (uL / min)\n",
    "\n",
    "## Reactions\n",
    "\n",
    "Kon = 10e+6 # on-rate constant (M^-1 s^-1)\n",
    "Koff = 10e-3 # off-rate constant (s^-1)\n",
    "bm = 2e+12 # binding site density (sites/cm^2)\n",
    "\n",
    "\n",
    "\n",
    "## Unit conversion\n",
    "\n",
    "D = d / 1e+12 # diffusivity (m^2/s)\n",
    "Co = co / 1e+15 # concentration (M)\n",
    "Q = (q / 1e+9)/60 # flow rate (m^3/s)\n",
    "Bm = bm*1e4 # binding site density (sites/m^2)\n",
    "\n",
    "\n"
   ]
  },
  {
   "cell_type": "markdown",
   "metadata": {},
   "source": [
    "### Peclet numbers"
   ]
  },
  {
   "cell_type": "markdown",
   "metadata": {},
   "source": [
    "##### Pe(H)"
   ]
  },
  {
   "cell_type": "code",
   "execution_count": 56,
   "metadata": {},
   "outputs": [
    {
     "name": "stdout",
     "output_type": "stream",
     "text": [
      "Peh =  1.67E+05\n",
      "Peh > 1, so depletion zone thinner than channel, alternatively depletion zone would extend far upstream.\n"
     ]
    }
   ],
   "source": [
    "Peh = Q/(Wc*D)\n",
    "print ('Peh ='+ format(Peh,\"10.2E\"))\n",
    "if Peh < 1 :\n",
    "    print (\"Peh < 1, so depletion zone extends far upstream, alternatively the depletion zone would be thinner than the channel.\")\n",
    "else :\n",
    "    print (\"Peh > 1, so depletion zone thinner than channel, alternatively depletion zone would extend far upstream.\")    \n",
    "    \n",
    "    \n",
    " "
   ]
  },
  {
   "cell_type": "markdown",
   "metadata": {},
   "source": [
    "##### Pe(S)"
   ]
  },
  {
   "cell_type": "code",
   "execution_count": 57,
   "metadata": {},
   "outputs": [
    {
     "name": "stdout",
     "output_type": "stream",
     "text": [
      "Pes =  2.50E+05\n",
      "Pes > 1, so depletion zone is thinner than sensor\n"
     ]
    }
   ],
   "source": [
    "Lambda = L/H # ratio of sensor length and channel height\n",
    "Pes = 6*(Lambda**2)*Peh\n",
    "print ('Pes ='+ format(Pes,\"10.2E\"))\n",
    "if Pes < 1:\n",
    "    print (\"Pes < 1, so depletion zone is thicker than sensor\")\n",
    "else:\n",
    "    print (\"Pes > 1, so depletion zone is thinner than sensor\")"
   ]
  },
  {
   "cell_type": "code",
   "execution_count": null,
   "metadata": {},
   "outputs": [],
   "source": []
  }
 ],
 "metadata": {
  "kernelspec": {
   "display_name": "Python 3",
   "language": "python",
   "name": "python3"
  },
  "language_info": {
   "codemirror_mode": {
    "name": "ipython",
    "version": 3
   },
   "file_extension": ".py",
   "mimetype": "text/x-python",
   "name": "python",
   "nbconvert_exporter": "python",
   "pygments_lexer": "ipython3",
   "version": "3.8.3"
  }
 },
 "nbformat": 4,
 "nbformat_minor": 4
}
